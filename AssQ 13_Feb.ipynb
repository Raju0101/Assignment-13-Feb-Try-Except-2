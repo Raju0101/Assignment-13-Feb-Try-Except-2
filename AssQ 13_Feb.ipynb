{
 "cells": [
  {
   "cell_type": "markdown",
   "id": "df901126-41eb-4d5d-8a04-4a97974b85bd",
   "metadata": {},
   "source": [
    "# Assinment 13-Feb"
   ]
  },
  {
   "cell_type": "code",
   "execution_count": null,
   "id": "871a77ce-26e5-4717-b975-9eb626d22c67",
   "metadata": {},
   "outputs": [],
   "source": [
    "# Q1. Explain why we have to use the Exception class while creating a Custom Exception."
   ]
  },
  {
   "cell_type": "code",
   "execution_count": null,
   "id": "7b07592b-50d1-4517-ab19-1518ef1f9721",
   "metadata": {},
   "outputs": [],
   "source": [
    "# I often create custom Exceptions if there is more information that I need to convey instead of just an error message.\n",
    "# The Exception class includes a number of properties that help identify the code location, \n",
    "# the type, the help file,and the reason for the exception.\n",
    "# The class Exception and its subclasses are a form of Throwable that indicates conditions that \n",
    "# a reasonable application might want to catch. The class Exception and any subclasses that are not \n",
    "# also subclasses of RuntimeException are checked exceptions.\n"
   ]
  },
  {
   "cell_type": "code",
   "execution_count": null,
   "id": "e9ebff4e-6adf-428d-939b-36210f462b97",
   "metadata": {},
   "outputs": [],
   "source": []
  },
  {
   "cell_type": "code",
   "execution_count": null,
   "id": "e2db2622-48cf-4402-8338-22b26d472650",
   "metadata": {},
   "outputs": [],
   "source": [
    "# Q2. Write a python program to print Python Exception Hierarchy."
   ]
  },
  {
   "cell_type": "code",
   "execution_count": 21,
   "id": "ecf97061-c9cd-4ef2-a394-49996892a4af",
   "metadata": {},
   "outputs": [
    {
     "ename": "SyntaxError",
     "evalue": "incomplete input (809495897.py, line 23)",
     "output_type": "error",
     "traceback": [
      "\u001b[0;36m  Cell \u001b[0;32mIn[21], line 23\u001b[0;36m\u001b[0m\n\u001b[0;31m    treeClass(BaseException\u001b[0m\n\u001b[0m                           ^\u001b[0m\n\u001b[0;31mSyntaxError\u001b[0m\u001b[0;31m:\u001b[0m incomplete input\n"
     ]
    }
   ],
   "source": [
    "# import inspect module\n",
    "import inspect\n",
    "  \n",
    "# our treeClass function\n",
    "def treeClass(cls, ind = 0):\n",
    "    \n",
    "      # print name of the class\n",
    "    print ('-' * ind, cls.__name__)\n",
    "      \n",
    "    # iterating through subclasses\n",
    "    for i in cls.__subclasses__():\n",
    "        treeClass(i, ind + 3)\n",
    "  \n",
    "print(\"Hierarchy for Built-in exceptions is : \")\n",
    "  \n",
    "# inspect.getmro() Return a tuple \n",
    "# of class  cls’s base classes.\n",
    "  \n",
    "# building a tree hierarchy \n",
    "inspect.getclasstree(inspect.getmro(BaseException))\n",
    "  \n",
    "# function call\n",
    "treeClass(BaseException)"
   ]
  },
  {
   "cell_type": "code",
   "execution_count": null,
   "id": "0130024c-e9a8-43cc-a129-391df45aa029",
   "metadata": {},
   "outputs": [],
   "source": [
    " "
   ]
  },
  {
   "cell_type": "code",
   "execution_count": null,
   "id": "860001c0-1b56-43b3-b6b4-de063c0081e9",
   "metadata": {},
   "outputs": [],
   "source": [
    "# Q3. What errors are defined in the ArithmeticError class? Explain any two with an example."
   ]
  },
  {
   "cell_type": "code",
   "execution_count": null,
   "id": "dc15f514-48be-4778-84c1-b6a177c1890e",
   "metadata": {},
   "outputs": [],
   "source": [
    "# ArithmeticError class;\n",
    "##  ZeroDivisionError\n",
    "## OverflowError\n",
    "## FloatingPointError"
   ]
  },
  {
   "cell_type": "code",
   "execution_count": 4,
   "id": "b6178660-a634-40e0-bc3b-030a33f3404d",
   "metadata": {},
   "outputs": [
    {
     "name": "stdout",
     "output_type": "stream",
     "text": [
      "division by zero\n"
     ]
    }
   ],
   "source": [
    "# ZeroDivisionError:\n",
    "try:\n",
    "    10/0\n",
    "except ZeroDivisionError as e:\n",
    "    print(e)"
   ]
  },
  {
   "cell_type": "code",
   "execution_count": null,
   "id": "9b47a280-f214-489d-92a2-4436dd348411",
   "metadata": {},
   "outputs": [],
   "source": [
    "# OverflowError;\n",
    "\n",
    "j = 5.0\n",
    "\n",
    "try:\n",
    "    for i in range(1, 1000):\n",
    "        j = j**i\n",
    "except ArithmeticError as e:\n",
    "    print(e)"
   ]
  },
  {
   "cell_type": "code",
   "execution_count": 7,
   "id": "8a0349a4-f0a1-442c-b67b-4cc9c8d59051",
   "metadata": {},
   "outputs": [
    {
     "name": "stdout",
     "output_type": "stream",
     "text": [
      "(34, 'Numerical result out of range')\n"
     ]
    }
   ],
   "source": [
    "# OverflowError;\n",
    "\n",
    "j = 10.0\n",
    "\n",
    "try:\n",
    "    for i in range(1, 100):\n",
    "        j = j**i\n",
    "except OverflowError as e:\n",
    "    print(e)"
   ]
  },
  {
   "cell_type": "code",
   "execution_count": null,
   "id": "a2121963-f157-4e6b-bd2d-986e134769a1",
   "metadata": {},
   "outputs": [],
   "source": []
  },
  {
   "cell_type": "code",
   "execution_count": null,
   "id": "92ec6ebe-7a50-480b-bba7-ab30241fac3d",
   "metadata": {},
   "outputs": [],
   "source": [
    "# Q4. Why LookupError class is used? Explain with an example KeyError and IndexError."
   ]
  },
  {
   "cell_type": "code",
   "execution_count": 37,
   "id": "5bbf4acc-e0ac-4332-8678-4df3c55fd59d",
   "metadata": {},
   "outputs": [
    {
     "ename": "SyntaxError",
     "evalue": "incomplete input (2960348719.py, line 11)",
     "output_type": "error",
     "traceback": [
      "\u001b[0;36m  Cell \u001b[0;32mIn[37], line 11\u001b[0;36m\u001b[0m\n\u001b[0;31m    \u001b[0m\n\u001b[0m    ^\u001b[0m\n\u001b[0;31mSyntaxError\u001b[0m\u001b[0;31m:\u001b[0m incomplete input\n"
     ]
    }
   ],
   "source": [
    "# We  use LookupError exception class to handle both IndexError and KeyError exception classes.\n",
    "# Lookup Error acts as a base class for the exceptions that occur when a key or index used \n",
    "# on a mapping or sequence of a list/dictionary is invalid or does not exists.\n",
    "\n",
    "# Keyerroe Example; A KeyError is raised when you try to access a value from a dictionary that does not exist.\n",
    "try :\n",
    "    d = {key: [\"Raju\",\"Rahul\", \"Uttam\"], Values : [1,2,3,]}\n",
    "    print(d[\"key3\"])\n",
    "except KeyError as e:\n",
    "            print(e)\n",
    "\n"
   ]
  },
  {
   "cell_type": "code",
   "execution_count": 34,
   "id": "b7066e44-5ae9-4d14-9169-e141b57209cc",
   "metadata": {},
   "outputs": [
    {
     "name": "stdout",
     "output_type": "stream",
     "text": [
      "list index out of range\n"
     ]
    }
   ],
   "source": [
    "\n",
    "\n",
    "# IndexError example;  if We have a list with Five items and we try to access the tenth item, we will get an IndexError.\n",
    "# list index out of range error occurs in Python when an item from a list is attempted to be accessed that is\n",
    "# outside the index range of the list.\n",
    "try :\n",
    "    l = [1,2,3,4]\n",
    "    print(l[6])\n",
    "except IndexError as e:\n",
    "    print(e)"
   ]
  },
  {
   "cell_type": "code",
   "execution_count": null,
   "id": "4ddc0beb-83fc-40d8-8b2d-25458fa41dc6",
   "metadata": {},
   "outputs": [],
   "source": []
  },
  {
   "cell_type": "code",
   "execution_count": null,
   "id": "d401cb44-488a-43ac-8075-6708f7a18434",
   "metadata": {},
   "outputs": [],
   "source": []
  },
  {
   "cell_type": "code",
   "execution_count": null,
   "id": "4fdc6956-2c36-47db-ba4f-9d73fef9fbc9",
   "metadata": {},
   "outputs": [],
   "source": [
    "# Q5. Explain ImportError. What is ModuleNotFoundError?"
   ]
  },
  {
   "cell_type": "code",
   "execution_count": 32,
   "id": "cdded94c-85ee-4f31-99d3-fe4c6060eec1",
   "metadata": {},
   "outputs": [
    {
     "name": "stdout",
     "output_type": "stream",
     "text": [
      "No module named 'raju'\n"
     ]
    }
   ],
   "source": [
    "# ImportError: In Python, ImportError occurs when the Python program tries to import module which\n",
    "# does not exist in the private table.\n",
    "\n",
    "try :\n",
    "    import raju\n",
    "except ImportError as e:\n",
    "    print(e)\n",
    "\n",
    "#  ModuleNotFoundError; It is a type of error which occurs when we're trying to access or use a \n",
    "# module that cannot be found."
   ]
  },
  {
   "cell_type": "code",
   "execution_count": null,
   "id": "45fabd01-b629-42d1-9994-2a6a56497ed5",
   "metadata": {},
   "outputs": [],
   "source": []
  },
  {
   "cell_type": "code",
   "execution_count": null,
   "id": "cf06531a-4e19-4ec5-ad3c-42396e495f73",
   "metadata": {},
   "outputs": [],
   "source": []
  },
  {
   "cell_type": "code",
   "execution_count": 9,
   "id": "ce37ea2a-2df9-4dc6-9b68-2b015aaf996d",
   "metadata": {},
   "outputs": [],
   "source": [
    "# Q6. List down some best practices for exception handling in python. "
   ]
  },
  {
   "cell_type": "code",
   "execution_count": 10,
   "id": "d969e9a6-4350-4a0f-b625-453f5064fde8",
   "metadata": {},
   "outputs": [
    {
     "name": "stdout",
     "output_type": "stream",
     "text": [
      "division by zero\n"
     ]
    }
   ],
   "source": [
    "try:\n",
    "    100/0\n",
    "except ZeroDivisionError as e:\n",
    "    print(e)"
   ]
  },
  {
   "cell_type": "code",
   "execution_count": 14,
   "id": "7f7a2c10-9ca3-48a9-864d-eac4d089bfc5",
   "metadata": {},
   "outputs": [
    {
     "name": "stdout",
     "output_type": "stream",
     "text": [
      "invalid literal for int() with base 10: 'Raju'\n"
     ]
    }
   ],
   "source": [
    "try:\n",
    "    int(\"Raju\")\n",
    "except (ValueError , TypeError) as e:\n",
    "    print(e)\n",
    "    "
   ]
  },
  {
   "cell_type": "code",
   "execution_count": 15,
   "id": "36c3d19d-a2a3-472b-ab9d-116cd9af37f1",
   "metadata": {},
   "outputs": [
    {
     "name": "stdout",
     "output_type": "stream",
     "text": [
      "No module named 'Raju'\n"
     ]
    }
   ],
   "source": [
    "try:\n",
    "    import Raju\n",
    "except ImportError as e:\n",
    "    print(e)"
   ]
  },
  {
   "cell_type": "code",
   "execution_count": 22,
   "id": "271fdedb-5c2b-498e-b422-4ae4ff9a5421",
   "metadata": {},
   "outputs": [
    {
     "name": "stdout",
     "output_type": "stream",
     "text": [
      "'str' object has no attribute 'test'\n"
     ]
    }
   ],
   "source": [
    "try :\n",
    "    \"raju\".test()\n",
    "except AttributeError  as e:\n",
    "    print(e)"
   ]
  },
  {
   "cell_type": "code",
   "execution_count": 23,
   "id": "f531646b-e53c-4baa-ac60-25bdccf74678",
   "metadata": {},
   "outputs": [
    {
     "name": "stdout",
     "output_type": "stream",
     "text": [
      "list index out of range\n"
     ]
    }
   ],
   "source": [
    "try :\n",
    "    l = [1,2,3,4]\n",
    "    print(l[6])\n",
    "except IndexError as e:\n",
    "    print(e)"
   ]
  },
  {
   "cell_type": "code",
   "execution_count": null,
   "id": "6233c807-70e7-4d07-918b-096343e5a22d",
   "metadata": {},
   "outputs": [],
   "source": []
  }
 ],
 "metadata": {
  "kernelspec": {
   "display_name": "Python 3 (ipykernel)",
   "language": "python",
   "name": "python3"
  },
  "language_info": {
   "codemirror_mode": {
    "name": "ipython",
    "version": 3
   },
   "file_extension": ".py",
   "mimetype": "text/x-python",
   "name": "python",
   "nbconvert_exporter": "python",
   "pygments_lexer": "ipython3",
   "version": "3.10.8"
  }
 },
 "nbformat": 4,
 "nbformat_minor": 5
}
